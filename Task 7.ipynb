{
 "cells": [
  {
   "cell_type": "code",
   "execution_count": 1,
   "id": "bc2c5b97-d9d1-42c4-871f-a3979b0fd42d",
   "metadata": {},
   "outputs": [
    {
     "name": "stdout",
     "output_type": "stream",
     "text": [
      "Opened database successfully\n"
     ]
    }
   ],
   "source": [
    "import sqlite3\n",
    "\n",
    "conn = sqlite3.connect('sales_data.db')\n",
    "\n",
    "print (\"Opened database successfully\");\n"
   ]
  },
  {
   "cell_type": "code",
   "execution_count": 2,
   "id": "6df89a6f-281e-4540-9ec2-54ffb461b0d4",
   "metadata": {},
   "outputs": [
    {
     "name": "stdout",
     "output_type": "stream",
     "text": [
      "Opened database successfully\n",
      "Table created successfully\n"
     ]
    }
   ],
   "source": [
    "import sqlite3\n",
    "\n",
    "conn = sqlite3.connect('sales_data.db')\n",
    "print (\"Opened database successfully\");\n",
    "\n",
    "conn.execute('''CREATE TABLE IF NOT EXISTS sales (\n",
    "\n",
    "    product TEXT NOT NULL,\n",
    "    quantity INTEGER NOT NULL,\n",
    "    price REAL NOT NULL\n",
    ");''')\n",
    "print (\"Table created successfully\");"
   ]
  },
  {
   "cell_type": "code",
   "execution_count": 3,
   "id": "e0977b3a-713d-47df-b484-c6446821dfbc",
   "metadata": {},
   "outputs": [
    {
     "name": "stdout",
     "output_type": "stream",
     "text": [
      "Opened database successfully\n",
      "Records created successfully\n"
     ]
    }
   ],
   "source": [
    "import sqlite3\n",
    "\n",
    "conn = sqlite3.connect('sales_data.db')\n",
    "print (\"Opened database successfully\");\n",
    "\n",
    "conn.execute(\"INSERT INTO sales (product, quantity, price) \\\n",
    "      VALUES ('Apple', 10, 0.5)\");\n",
    "conn.execute(\"INSERT INTO sales (product, quantity, price) \\\n",
    "      VALUES ('Mango', 11, 0.6)\");\n",
    "conn.execute(\"INSERT INTO sales (product, quantity, price) \\\n",
    "      VALUES ('Orange', 15, 0.7)\");\n",
    "\n",
    "\n",
    "\n",
    "conn.commit()\n",
    "print (\"Records created successfully\");\n",
    "\n",
    "\n",
    "\n",
    "conn.close()"
   ]
  },
  {
   "cell_type": "code",
   "execution_count": 6,
   "id": "c3a3f431-8bb2-4af4-a31a-865d47969c10",
   "metadata": {},
   "outputs": [
    {
     "name": "stdout",
     "output_type": "stream",
     "text": [
      "Opened database successfully\n",
      "product =  Apple\n",
      "quantity =  10\n",
      "price =  0.5 \n",
      "\n",
      "product =  Mango\n",
      "quantity =  11\n",
      "price =  0.6 \n",
      "\n",
      "product =  Orange\n",
      "quantity =  15\n",
      "price =  0.7 \n",
      "\n",
      "Operation done successfully\n"
     ]
    }
   ],
   "source": [
    "import sqlite3\n",
    "\n",
    "conn = sqlite3.connect('sales_data.db')\n",
    "print (\"Opened database successfully\");\n",
    "\n",
    "cursor = conn.execute(\"SELECT product, quantity, price from sales\")\n",
    "for row in cursor:\n",
    "    print (\"product = \", row[0])\n",
    "    print (\"quantity = \", row[1])\n",
    "    print (\"price = \", row[2], \"\\n\")\n",
    "\n",
    "print (\"Operation done successfully\");\n",
    "conn.close()"
   ]
  },
  {
   "cell_type": "code",
   "execution_count": null,
   "id": "fc7b231d-3875-4a16-aea0-672152981a95",
   "metadata": {},
   "outputs": [],
   "source": []
  }
 ],
 "metadata": {
  "kernelspec": {
   "display_name": "Python 3 (ipykernel)",
   "language": "python",
   "name": "python3"
  },
  "language_info": {
   "codemirror_mode": {
    "name": "ipython",
    "version": 3
   },
   "file_extension": ".py",
   "mimetype": "text/x-python",
   "name": "python",
   "nbconvert_exporter": "python",
   "pygments_lexer": "ipython3",
   "version": "3.11.7"
  }
 },
 "nbformat": 4,
 "nbformat_minor": 5
}
